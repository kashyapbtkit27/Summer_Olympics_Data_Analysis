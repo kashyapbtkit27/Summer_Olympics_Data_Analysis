{
 "cells": [
  {
   "cell_type": "markdown",
   "id": "4d8f5aba",
   "metadata": {},
   "source": [
    "Summer Olympics Data Analysis Assignment"
   ]
  },
  {
   "cell_type": "code",
   "execution_count": 119,
   "id": "fcf32f31",
   "metadata": {},
   "outputs": [],
   "source": [
    "import pandas as pd"
   ]
  },
  {
   "cell_type": "code",
   "execution_count": 120,
   "id": "e14106c5",
   "metadata": {},
   "outputs": [],
   "source": [
    "df = pd.read_csv('https://raw.githubusercontent.com/AshishJangra27/Skill-India-AI-ML-Scholarship/main/Summer%20Olympics/summer.csv')"
   ]
  },
  {
   "cell_type": "code",
   "execution_count": 121,
   "id": "a9776ead",
   "metadata": {},
   "outputs": [
    {
     "data": {
      "text/html": [
       "<div>\n",
       "<style scoped>\n",
       "    .dataframe tbody tr th:only-of-type {\n",
       "        vertical-align: middle;\n",
       "    }\n",
       "\n",
       "    .dataframe tbody tr th {\n",
       "        vertical-align: top;\n",
       "    }\n",
       "\n",
       "    .dataframe thead th {\n",
       "        text-align: right;\n",
       "    }\n",
       "</style>\n",
       "<table border=\"1\" class=\"dataframe\">\n",
       "  <thead>\n",
       "    <tr style=\"text-align: right;\">\n",
       "      <th></th>\n",
       "      <th>Year</th>\n",
       "      <th>City</th>\n",
       "      <th>Sport</th>\n",
       "      <th>Discipline</th>\n",
       "      <th>Athlete</th>\n",
       "      <th>Country</th>\n",
       "      <th>Gender</th>\n",
       "      <th>Event</th>\n",
       "      <th>Medal</th>\n",
       "    </tr>\n",
       "  </thead>\n",
       "  <tbody>\n",
       "    <tr>\n",
       "      <th>0</th>\n",
       "      <td>1896</td>\n",
       "      <td>Athens</td>\n",
       "      <td>Aquatics</td>\n",
       "      <td>Swimming</td>\n",
       "      <td>HAJOS, Alfred</td>\n",
       "      <td>HUN</td>\n",
       "      <td>Men</td>\n",
       "      <td>100M Freestyle</td>\n",
       "      <td>Gold</td>\n",
       "    </tr>\n",
       "    <tr>\n",
       "      <th>1</th>\n",
       "      <td>1896</td>\n",
       "      <td>Athens</td>\n",
       "      <td>Aquatics</td>\n",
       "      <td>Swimming</td>\n",
       "      <td>HERSCHMANN, Otto</td>\n",
       "      <td>AUT</td>\n",
       "      <td>Men</td>\n",
       "      <td>100M Freestyle</td>\n",
       "      <td>Silver</td>\n",
       "    </tr>\n",
       "    <tr>\n",
       "      <th>2</th>\n",
       "      <td>1896</td>\n",
       "      <td>Athens</td>\n",
       "      <td>Aquatics</td>\n",
       "      <td>Swimming</td>\n",
       "      <td>DRIVAS, Dimitrios</td>\n",
       "      <td>GRE</td>\n",
       "      <td>Men</td>\n",
       "      <td>100M Freestyle For Sailors</td>\n",
       "      <td>Bronze</td>\n",
       "    </tr>\n",
       "    <tr>\n",
       "      <th>3</th>\n",
       "      <td>1896</td>\n",
       "      <td>Athens</td>\n",
       "      <td>Aquatics</td>\n",
       "      <td>Swimming</td>\n",
       "      <td>MALOKINIS, Ioannis</td>\n",
       "      <td>GRE</td>\n",
       "      <td>Men</td>\n",
       "      <td>100M Freestyle For Sailors</td>\n",
       "      <td>Gold</td>\n",
       "    </tr>\n",
       "    <tr>\n",
       "      <th>4</th>\n",
       "      <td>1896</td>\n",
       "      <td>Athens</td>\n",
       "      <td>Aquatics</td>\n",
       "      <td>Swimming</td>\n",
       "      <td>CHASAPIS, Spiridon</td>\n",
       "      <td>GRE</td>\n",
       "      <td>Men</td>\n",
       "      <td>100M Freestyle For Sailors</td>\n",
       "      <td>Silver</td>\n",
       "    </tr>\n",
       "    <tr>\n",
       "      <th>...</th>\n",
       "      <td>...</td>\n",
       "      <td>...</td>\n",
       "      <td>...</td>\n",
       "      <td>...</td>\n",
       "      <td>...</td>\n",
       "      <td>...</td>\n",
       "      <td>...</td>\n",
       "      <td>...</td>\n",
       "      <td>...</td>\n",
       "    </tr>\n",
       "    <tr>\n",
       "      <th>31160</th>\n",
       "      <td>2012</td>\n",
       "      <td>London</td>\n",
       "      <td>Wrestling</td>\n",
       "      <td>Wrestling Freestyle</td>\n",
       "      <td>JANIKOWSKI, Damian</td>\n",
       "      <td>POL</td>\n",
       "      <td>Men</td>\n",
       "      <td>Wg 84 KG</td>\n",
       "      <td>Bronze</td>\n",
       "    </tr>\n",
       "    <tr>\n",
       "      <th>31161</th>\n",
       "      <td>2012</td>\n",
       "      <td>London</td>\n",
       "      <td>Wrestling</td>\n",
       "      <td>Wrestling Freestyle</td>\n",
       "      <td>REZAEI, Ghasem Gholamreza</td>\n",
       "      <td>IRI</td>\n",
       "      <td>Men</td>\n",
       "      <td>Wg 96 KG</td>\n",
       "      <td>Gold</td>\n",
       "    </tr>\n",
       "    <tr>\n",
       "      <th>31162</th>\n",
       "      <td>2012</td>\n",
       "      <td>London</td>\n",
       "      <td>Wrestling</td>\n",
       "      <td>Wrestling Freestyle</td>\n",
       "      <td>TOTROV, Rustam</td>\n",
       "      <td>RUS</td>\n",
       "      <td>Men</td>\n",
       "      <td>Wg 96 KG</td>\n",
       "      <td>Silver</td>\n",
       "    </tr>\n",
       "    <tr>\n",
       "      <th>31163</th>\n",
       "      <td>2012</td>\n",
       "      <td>London</td>\n",
       "      <td>Wrestling</td>\n",
       "      <td>Wrestling Freestyle</td>\n",
       "      <td>ALEKSANYAN, Artur</td>\n",
       "      <td>ARM</td>\n",
       "      <td>Men</td>\n",
       "      <td>Wg 96 KG</td>\n",
       "      <td>Bronze</td>\n",
       "    </tr>\n",
       "    <tr>\n",
       "      <th>31164</th>\n",
       "      <td>2012</td>\n",
       "      <td>London</td>\n",
       "      <td>Wrestling</td>\n",
       "      <td>Wrestling Freestyle</td>\n",
       "      <td>LIDBERG, Jimmy</td>\n",
       "      <td>SWE</td>\n",
       "      <td>Men</td>\n",
       "      <td>Wg 96 KG</td>\n",
       "      <td>Bronze</td>\n",
       "    </tr>\n",
       "  </tbody>\n",
       "</table>\n",
       "<p>31165 rows × 9 columns</p>\n",
       "</div>"
      ],
      "text/plain": [
       "       Year    City      Sport           Discipline  \\\n",
       "0      1896  Athens   Aquatics             Swimming   \n",
       "1      1896  Athens   Aquatics             Swimming   \n",
       "2      1896  Athens   Aquatics             Swimming   \n",
       "3      1896  Athens   Aquatics             Swimming   \n",
       "4      1896  Athens   Aquatics             Swimming   \n",
       "...     ...     ...        ...                  ...   \n",
       "31160  2012  London  Wrestling  Wrestling Freestyle   \n",
       "31161  2012  London  Wrestling  Wrestling Freestyle   \n",
       "31162  2012  London  Wrestling  Wrestling Freestyle   \n",
       "31163  2012  London  Wrestling  Wrestling Freestyle   \n",
       "31164  2012  London  Wrestling  Wrestling Freestyle   \n",
       "\n",
       "                         Athlete Country Gender                       Event  \\\n",
       "0                  HAJOS, Alfred     HUN    Men              100M Freestyle   \n",
       "1               HERSCHMANN, Otto     AUT    Men              100M Freestyle   \n",
       "2              DRIVAS, Dimitrios     GRE    Men  100M Freestyle For Sailors   \n",
       "3             MALOKINIS, Ioannis     GRE    Men  100M Freestyle For Sailors   \n",
       "4             CHASAPIS, Spiridon     GRE    Men  100M Freestyle For Sailors   \n",
       "...                          ...     ...    ...                         ...   \n",
       "31160         JANIKOWSKI, Damian     POL    Men                    Wg 84 KG   \n",
       "31161  REZAEI, Ghasem Gholamreza     IRI    Men                    Wg 96 KG   \n",
       "31162             TOTROV, Rustam     RUS    Men                    Wg 96 KG   \n",
       "31163          ALEKSANYAN, Artur     ARM    Men                    Wg 96 KG   \n",
       "31164             LIDBERG, Jimmy     SWE    Men                    Wg 96 KG   \n",
       "\n",
       "        Medal  \n",
       "0        Gold  \n",
       "1      Silver  \n",
       "2      Bronze  \n",
       "3        Gold  \n",
       "4      Silver  \n",
       "...       ...  \n",
       "31160  Bronze  \n",
       "31161    Gold  \n",
       "31162  Silver  \n",
       "31163  Bronze  \n",
       "31164  Bronze  \n",
       "\n",
       "[31165 rows x 9 columns]"
      ]
     },
     "execution_count": 121,
     "metadata": {},
     "output_type": "execute_result"
    }
   ],
   "source": [
    "df"
   ]
  },
  {
   "cell_type": "code",
   "execution_count": null,
   "id": "4fc87186",
   "metadata": {},
   "outputs": [],
   "source": []
  },
  {
   "cell_type": "markdown",
   "id": "a83b7033",
   "metadata": {},
   "source": [
    "1. In how many cities Summer Olympics is held so far?"
   ]
  },
  {
   "cell_type": "code",
   "execution_count": 122,
   "id": "4c6a5555",
   "metadata": {},
   "outputs": [
    {
     "data": {
      "text/plain": [
       "22"
      ]
     },
     "execution_count": 122,
     "metadata": {},
     "output_type": "execute_result"
    }
   ],
   "source": [
    "city= df['City'].unique()\n",
    "len(city)"
   ]
  },
  {
   "cell_type": "code",
   "execution_count": null,
   "id": "9b92d4f0",
   "metadata": {},
   "outputs": [],
   "source": []
  },
  {
   "cell_type": "markdown",
   "id": "b21e69b9",
   "metadata": {},
   "source": [
    "2. Which sport is having most number of Gold Medals so far? "
   ]
  },
  {
   "cell_type": "code",
   "execution_count": 123,
   "id": "3a596561",
   "metadata": {},
   "outputs": [
    {
     "data": {
      "text/plain": [
       "<AxesSubplot:xlabel='Sport'>"
      ]
     },
     "execution_count": 123,
     "metadata": {},
     "output_type": "execute_result"
    },
    {
     "data": {
      "image/png": "[encoded data removed]",
      "text/plain": [
       "<Figure size 720x360 with 1 Axes>"
      ]
     },
     "metadata": {
      "needs_background": "light"
     },
     "output_type": "display_data"
    }
   ],
   "source": [
    "dt = df[df['Medal'] == 'Gold']\n",
    "data = []\n",
    "for Sport in dt['Sport'].unique():\n",
    "    data.append([Sport, len(dt[dt['Sport'] == Sport])])\n",
    "\n",
    "data = pd.DataFrame(data, columns = ['Sport', 'Medal'])\n",
    "data = data.sort_values(by= ['Medal'], ascending = False).head()\n",
    "data.plot(x = 'Sport', y= 'Medal', kind = 'bar', figsize =(10, 5))"
   ]
  },
  {
   "cell_type": "code",
   "execution_count": 49,
   "id": "ba9f07f3",
   "metadata": {},
   "outputs": [
    {
     "data": {
      "text/html": [
       "<div>\n",
       "<style scoped>\n",
       "    .dataframe tbody tr th:only-of-type {\n",
       "        vertical-align: middle;\n",
       "    }\n",
       "\n",
       "    .dataframe tbody tr th {\n",
       "        vertical-align: top;\n",
       "    }\n",
       "\n",
       "    .dataframe thead th {\n",
       "        text-align: right;\n",
       "    }\n",
       "</style>\n",
       "<table border=\"1\" class=\"dataframe\">\n",
       "  <thead>\n",
       "    <tr style=\"text-align: right;\">\n",
       "      <th></th>\n",
       "      <th>Sport</th>\n",
       "      <th>Medal</th>\n",
       "    </tr>\n",
       "  </thead>\n",
       "  <tbody>\n",
       "    <tr>\n",
       "      <th>0</th>\n",
       "      <td>Aquatics</td>\n",
       "      <td>1421</td>\n",
       "    </tr>\n",
       "    <tr>\n",
       "      <th>1</th>\n",
       "      <td>Athletics</td>\n",
       "      <td>1215</td>\n",
       "    </tr>\n",
       "    <tr>\n",
       "      <th>17</th>\n",
       "      <td>Rowing</td>\n",
       "      <td>890</td>\n",
       "    </tr>\n",
       "    <tr>\n",
       "      <th>4</th>\n",
       "      <td>Gymnastics</td>\n",
       "      <td>820</td>\n",
       "    </tr>\n",
       "    <tr>\n",
       "      <th>3</th>\n",
       "      <td>Fencing</td>\n",
       "      <td>552</td>\n",
       "    </tr>\n",
       "  </tbody>\n",
       "</table>\n",
       "</div>"
      ],
      "text/plain": [
       "         Sport  Medal\n",
       "0     Aquatics   1421\n",
       "1    Athletics   1215\n",
       "17      Rowing    890\n",
       "4   Gymnastics    820\n",
       "3      Fencing    552"
      ]
     },
     "execution_count": 49,
     "metadata": {},
     "output_type": "execute_result"
    }
   ],
   "source": [
    "data"
   ]
  },
  {
   "cell_type": "code",
   "execution_count": null,
   "id": "ebc4345b",
   "metadata": {},
   "outputs": [],
   "source": []
  },
  {
   "cell_type": "markdown",
   "id": "35fd3a93",
   "metadata": {},
   "source": [
    "3. Which sport is having most number of medals so far? (Top 5)\n"
   ]
  },
  {
   "cell_type": "code",
   "execution_count": 124,
   "id": "09aac814",
   "metadata": {},
   "outputs": [
    {
     "data": {
      "text/plain": [
       "<AxesSubplot:xlabel='Sport'>"
      ]
     },
     "execution_count": 124,
     "metadata": {},
     "output_type": "execute_result"
    },
    {
     "data": {
      "image/png": "[encoded data removed]",
      "text/plain": [
       "<Figure size 720x360 with 1 Axes>"
      ]
     },
     "metadata": {
      "needs_background": "light"
     },
     "output_type": "display_data"
    }
   ],
   "source": [
    "data = []\n",
    "for Sport in df['Sport'].unique():\n",
    "    data.append([Sport, len(df[df['Sport'] == Sport])])\n",
    "\n",
    "data = pd.DataFrame(data, columns = ['Sport', 'Medal'])\n",
    "data = data.sort_values(by= ['Medal'], ascending = False).head()\n",
    "data.plot(x = 'Sport', y= 'Medal', kind = 'bar', figsize =(10, 5))"
   ]
  },
  {
   "cell_type": "code",
   "execution_count": 51,
   "id": "49482905",
   "metadata": {},
   "outputs": [
    {
     "data": {
      "text/html": [
       "<div>\n",
       "<style scoped>\n",
       "    .dataframe tbody tr th:only-of-type {\n",
       "        vertical-align: middle;\n",
       "    }\n",
       "\n",
       "    .dataframe tbody tr th {\n",
       "        vertical-align: top;\n",
       "    }\n",
       "\n",
       "    .dataframe thead th {\n",
       "        text-align: right;\n",
       "    }\n",
       "</style>\n",
       "<table border=\"1\" class=\"dataframe\">\n",
       "  <thead>\n",
       "    <tr style=\"text-align: right;\">\n",
       "      <th></th>\n",
       "      <th>Sport</th>\n",
       "      <th>Medal</th>\n",
       "    </tr>\n",
       "  </thead>\n",
       "  <tbody>\n",
       "    <tr>\n",
       "      <th>0</th>\n",
       "      <td>Aquatics</td>\n",
       "      <td>4170</td>\n",
       "    </tr>\n",
       "    <tr>\n",
       "      <th>1</th>\n",
       "      <td>Athletics</td>\n",
       "      <td>3638</td>\n",
       "    </tr>\n",
       "    <tr>\n",
       "      <th>17</th>\n",
       "      <td>Rowing</td>\n",
       "      <td>2667</td>\n",
       "    </tr>\n",
       "    <tr>\n",
       "      <th>4</th>\n",
       "      <td>Gymnastics</td>\n",
       "      <td>2307</td>\n",
       "    </tr>\n",
       "    <tr>\n",
       "      <th>3</th>\n",
       "      <td>Fencing</td>\n",
       "      <td>1613</td>\n",
       "    </tr>\n",
       "  </tbody>\n",
       "</table>\n",
       "</div>"
      ],
      "text/plain": [
       "         Sport  Medal\n",
       "0     Aquatics   4170\n",
       "1    Athletics   3638\n",
       "17      Rowing   2667\n",
       "4   Gymnastics   2307\n",
       "3      Fencing   1613"
      ]
     },
     "execution_count": 51,
     "metadata": {},
     "output_type": "execute_result"
    }
   ],
   "source": [
    "data"
   ]
  },
  {
   "cell_type": "code",
   "execution_count": null,
   "id": "89d78cd7",
   "metadata": {},
   "outputs": [],
   "source": []
  },
  {
   "cell_type": "markdown",
   "id": "1d95cfcb",
   "metadata": {},
   "source": [
    "4. Which player has won most number of medals? (Top 5)"
   ]
  },
  {
   "cell_type": "code",
   "execution_count": 134,
   "id": "4b1102ae",
   "metadata": {},
   "outputs": [
    {
     "data": {
      "text/plain": [
       "<AxesSubplot:xlabel='Athlete'>"
      ]
     },
     "execution_count": 134,
     "metadata": {},
     "output_type": "execute_result"
    },
    {
     "data": {
      "image/png": "[encoded data removed]",
      "text/plain": [
       "<Figure size 720x360 with 1 Axes>"
      ]
     },
     "metadata": {
      "needs_background": "light"
     },
     "output_type": "display_data"
    }
   ],
   "source": [
    "data = []\n",
    "for Athlete in dt['Athlete'].unique():\n",
    "    data.append([Athlete, len(df[df['Athlete'] == Athlete])])\n",
    "\n",
    "data = pd.DataFrame(data, columns = ['Athlete', 'Medal'])\n",
    "data = data.sort_values(by= ['Medal'], ascending = False).head()\n",
    "data.plot(x = 'Athlete', y= 'Medal', kind = 'bar', figsize =(10, 5))"
   ]
  },
  {
   "cell_type": "code",
   "execution_count": 136,
   "id": "7c0c9dff",
   "metadata": {},
   "outputs": [
    {
     "data": {
      "text/html": [
       "<div>\n",
       "<style scoped>\n",
       "    .dataframe tbody tr th:only-of-type {\n",
       "        vertical-align: middle;\n",
       "    }\n",
       "\n",
       "    .dataframe tbody tr th {\n",
       "        vertical-align: top;\n",
       "    }\n",
       "\n",
       "    .dataframe thead th {\n",
       "        text-align: right;\n",
       "    }\n",
       "</style>\n",
       "<table border=\"1\" class=\"dataframe\">\n",
       "  <thead>\n",
       "    <tr style=\"text-align: right;\">\n",
       "      <th></th>\n",
       "      <th>Athlete</th>\n",
       "      <th>Medal</th>\n",
       "    </tr>\n",
       "  </thead>\n",
       "  <tbody>\n",
       "    <tr>\n",
       "      <th>6851</th>\n",
       "      <td>PHELPS, Michael</td>\n",
       "      <td>22</td>\n",
       "    </tr>\n",
       "    <tr>\n",
       "      <th>2714</th>\n",
       "      <td>LATYNINA, Larisa</td>\n",
       "      <td>18</td>\n",
       "    </tr>\n",
       "    <tr>\n",
       "      <th>3735</th>\n",
       "      <td>ANDRIANOV, Nikolay</td>\n",
       "      <td>15</td>\n",
       "    </tr>\n",
       "    <tr>\n",
       "      <th>2715</th>\n",
       "      <td>ONO, Takashi</td>\n",
       "      <td>13</td>\n",
       "    </tr>\n",
       "    <tr>\n",
       "      <th>1963</th>\n",
       "      <td>MANGIAROTTI, Edoardo</td>\n",
       "      <td>13</td>\n",
       "    </tr>\n",
       "  </tbody>\n",
       "</table>\n",
       "</div>"
      ],
      "text/plain": [
       "                   Athlete  Medal\n",
       "6851       PHELPS, Michael     22\n",
       "2714      LATYNINA, Larisa     18\n",
       "3735    ANDRIANOV, Nikolay     15\n",
       "2715          ONO, Takashi     13\n",
       "1963  MANGIAROTTI, Edoardo     13"
      ]
     },
     "execution_count": 136,
     "metadata": {},
     "output_type": "execute_result"
    }
   ],
   "source": [
    "data"
   ]
  },
  {
   "cell_type": "code",
   "execution_count": null,
   "id": "57be34f2",
   "metadata": {},
   "outputs": [],
   "source": []
  },
  {
   "cell_type": "markdown",
   "id": "d865ab77",
   "metadata": {},
   "source": [
    "5. Which player has won most number Gold Medals of medals?"
   ]
  },
  {
   "cell_type": "code",
   "execution_count": 69,
   "id": "feca8455",
   "metadata": {},
   "outputs": [
    {
     "data": {
      "text/plain": [
       "<AxesSubplot:xlabel='Athlete'>"
      ]
     },
     "execution_count": 69,
     "metadata": {},
     "output_type": "execute_result"
    },
    {
     "data": {
      "image/png": "[encoded data removed]",
      "text/plain": [
       "<Figure size 720x360 with 1 Axes>"
      ]
     },
     "metadata": {
      "needs_background": "light"
     },
     "output_type": "display_data"
    }
   ],
   "source": [
    "dt = df[df['Medal'] == 'Gold']\n",
    "data = []\n",
    "for Athlete in dt['Athlete'].unique():\n",
    "    data.append([Athlete, len(dt[dt['Athlete'] == Athlete])])\n",
    "\n",
    "data = pd.DataFrame(data, columns = ['Athlete', 'Medal'])\n",
    "data = data.sort_values(by= ['Medal'], ascending = False).head()\n",
    "data.plot(x = 'Athlete', y= 'Medal', kind = 'bar', figsize =(10, 5))"
   ]
  },
  {
   "cell_type": "code",
   "execution_count": 70,
   "id": "aa69bd8e",
   "metadata": {},
   "outputs": [
    {
     "data": {
      "text/html": [
       "<div>\n",
       "<style scoped>\n",
       "    .dataframe tbody tr th:only-of-type {\n",
       "        vertical-align: middle;\n",
       "    }\n",
       "\n",
       "    .dataframe tbody tr th {\n",
       "        vertical-align: top;\n",
       "    }\n",
       "\n",
       "    .dataframe thead th {\n",
       "        text-align: right;\n",
       "    }\n",
       "</style>\n",
       "<table border=\"1\" class=\"dataframe\">\n",
       "  <thead>\n",
       "    <tr style=\"text-align: right;\">\n",
       "      <th></th>\n",
       "      <th>Athlete</th>\n",
       "      <th>Medal</th>\n",
       "    </tr>\n",
       "  </thead>\n",
       "  <tbody>\n",
       "    <tr>\n",
       "      <th>6851</th>\n",
       "      <td>PHELPS, Michael</td>\n",
       "      <td>18</td>\n",
       "    </tr>\n",
       "    <tr>\n",
       "      <th>3320</th>\n",
       "      <td>SPITZ, Mark</td>\n",
       "      <td>9</td>\n",
       "    </tr>\n",
       "    <tr>\n",
       "      <th>2714</th>\n",
       "      <td>LATYNINA, Larisa</td>\n",
       "      <td>9</td>\n",
       "    </tr>\n",
       "    <tr>\n",
       "      <th>4630</th>\n",
       "      <td>LEWIS, Carl</td>\n",
       "      <td>9</td>\n",
       "    </tr>\n",
       "    <tr>\n",
       "      <th>907</th>\n",
       "      <td>NURMI, Paavo</td>\n",
       "      <td>9</td>\n",
       "    </tr>\n",
       "  </tbody>\n",
       "</table>\n",
       "</div>"
      ],
      "text/plain": [
       "               Athlete  Medal\n",
       "6851   PHELPS, Michael     18\n",
       "3320       SPITZ, Mark      9\n",
       "2714  LATYNINA, Larisa      9\n",
       "4630       LEWIS, Carl      9\n",
       "907       NURMI, Paavo      9"
      ]
     },
     "execution_count": 70,
     "metadata": {},
     "output_type": "execute_result"
    }
   ],
   "source": [
    "data"
   ]
  },
  {
   "cell_type": "code",
   "execution_count": null,
   "id": "65062750",
   "metadata": {},
   "outputs": [],
   "source": []
  },
  {
   "cell_type": "markdown",
   "id": "ac2cfe12",
   "metadata": {},
   "source": [
    "6. In which year India won first Gold Medal in Summer Olympics?"
   ]
  },
  {
   "cell_type": "code",
   "execution_count": 85,
   "id": "3a2d6df9",
   "metadata": {},
   "outputs": [
    {
     "data": {
      "text/plain": [
       "<AxesSubplot:xlabel='Year'>"
      ]
     },
     "execution_count": 85,
     "metadata": {},
     "output_type": "execute_result"
    },
    {
     "data": {
      "image/png": "[encoded data removed]",
      "text/plain": [
       "<Figure size 720x360 with 1 Axes>"
      ]
     },
     "metadata": {
      "needs_background": "light"
     },
     "output_type": "display_data"
    }
   ],
   "source": [
    "ds = df[df['Medal'] == 'Gold']\n",
    "dt = ds[ds['Country']== 'IND']\n",
    "data = []\n",
    "for Year in dt['Year'].unique():\n",
    "    data.append([Year, len(dt[dt['Year'] == Year])])\n",
    "\n",
    "data = pd.DataFrame(data, columns = ['Year', 'Medal'])\n",
    "data = data.sort_values(by= ['Year'], ascending = True).head(1)\n",
    "data.plot(x = 'Year', y= 'Medal', kind = 'bar', figsize =(10, 5))"
   ]
  },
  {
   "cell_type": "code",
   "execution_count": 86,
   "id": "ff542b8e",
   "metadata": {},
   "outputs": [
    {
     "data": {
      "text/html": [
       "<div>\n",
       "<style scoped>\n",
       "    .dataframe tbody tr th:only-of-type {\n",
       "        vertical-align: middle;\n",
       "    }\n",
       "\n",
       "    .dataframe tbody tr th {\n",
       "        vertical-align: top;\n",
       "    }\n",
       "\n",
       "    .dataframe thead th {\n",
       "        text-align: right;\n",
       "    }\n",
       "</style>\n",
       "<table border=\"1\" class=\"dataframe\">\n",
       "  <thead>\n",
       "    <tr style=\"text-align: right;\">\n",
       "      <th></th>\n",
       "      <th>Year</th>\n",
       "      <th>Medal</th>\n",
       "    </tr>\n",
       "  </thead>\n",
       "  <tbody>\n",
       "    <tr>\n",
       "      <th>0</th>\n",
       "      <td>1928</td>\n",
       "      <td>15</td>\n",
       "    </tr>\n",
       "  </tbody>\n",
       "</table>\n",
       "</div>"
      ],
      "text/plain": [
       "   Year  Medal\n",
       "0  1928     15"
      ]
     },
     "execution_count": 86,
     "metadata": {},
     "output_type": "execute_result"
    }
   ],
   "source": [
    "data"
   ]
  },
  {
   "cell_type": "markdown",
   "id": "32707a4f",
   "metadata": {},
   "source": [
    "7. Which event is most popular in terms on number of players? (Top 5)"
   ]
  },
  {
   "cell_type": "code",
   "execution_count": 114,
   "id": "32cb703d",
   "metadata": {},
   "outputs": [
    {
     "data": {
      "text/plain": [
       "<AxesSubplot:xlabel='Event'>"
      ]
     },
     "execution_count": 114,
     "metadata": {},
     "output_type": "execute_result"
    },
    {
     "data": {
      "image/png": "[encoded data removed]",
      "text/plain": [
       "<Figure size 720x360 with 1 Axes>"
      ]
     },
     "metadata": {
      "needs_background": "light"
     },
     "output_type": "display_data"
    }
   ],
   "source": [
    "data = []\n",
    "for Event in df['Event'].unique():\n",
    "    data.append([Event, len(df[df['Event'] == Event])])\n",
    "\n",
    "data = pd.DataFrame(data, columns = ['Event', 'Athlete'])\n",
    "data = data.sort_values(by= ['Athlete'], ascending = False).head()\n",
    "data.plot(x = 'Event', y= 'Athlete', kind = 'bar', figsize =(10, 5))"
   ]
  },
  {
   "cell_type": "code",
   "execution_count": 115,
   "id": "cf80ad95",
   "metadata": {},
   "outputs": [
    {
     "data": {
      "text/html": [
       "<div>\n",
       "<style scoped>\n",
       "    .dataframe tbody tr th:only-of-type {\n",
       "        vertical-align: middle;\n",
       "    }\n",
       "\n",
       "    .dataframe tbody tr th {\n",
       "        vertical-align: top;\n",
       "    }\n",
       "\n",
       "    .dataframe thead th {\n",
       "        text-align: right;\n",
       "    }\n",
       "</style>\n",
       "<table border=\"1\" class=\"dataframe\">\n",
       "  <thead>\n",
       "    <tr style=\"text-align: right;\">\n",
       "      <th></th>\n",
       "      <th>Event</th>\n",
       "      <th>Athlete</th>\n",
       "    </tr>\n",
       "  </thead>\n",
       "  <tbody>\n",
       "    <tr>\n",
       "      <th>80</th>\n",
       "      <td>Football</td>\n",
       "      <td>1497</td>\n",
       "    </tr>\n",
       "    <tr>\n",
       "      <th>176</th>\n",
       "      <td>Hockey</td>\n",
       "      <td>1422</td>\n",
       "    </tr>\n",
       "    <tr>\n",
       "      <th>138</th>\n",
       "      <td>Team Competition</td>\n",
       "      <td>1147</td>\n",
       "    </tr>\n",
       "    <tr>\n",
       "      <th>327</th>\n",
       "      <td>Basketball</td>\n",
       "      <td>1012</td>\n",
       "    </tr>\n",
       "    <tr>\n",
       "      <th>337</th>\n",
       "      <td>Handball</td>\n",
       "      <td>973</td>\n",
       "    </tr>\n",
       "  </tbody>\n",
       "</table>\n",
       "</div>"
      ],
      "text/plain": [
       "                Event  Athlete\n",
       "80           Football     1497\n",
       "176            Hockey     1422\n",
       "138  Team Competition     1147\n",
       "327        Basketball     1012\n",
       "337          Handball      973"
      ]
     },
     "execution_count": 115,
     "metadata": {},
     "output_type": "execute_result"
    }
   ],
   "source": [
    "data"
   ]
  },
  {
   "cell_type": "code",
   "execution_count": null,
   "id": "0ac41d83",
   "metadata": {},
   "outputs": [],
   "source": []
  },
  {
   "cell_type": "markdown",
   "id": "cfb58e4a",
   "metadata": {},
   "source": [
    "8. Which sport is having most female Gold Medalists? (Top 5)"
   ]
  },
  {
   "cell_type": "code",
   "execution_count": 128,
   "id": "100fd40d",
   "metadata": {},
   "outputs": [
    {
     "data": {
      "text/plain": [
       "<AxesSubplot:xlabel='Sport'>"
      ]
     },
     "execution_count": 128,
     "metadata": {},
     "output_type": "execute_result"
    },
    {
     "data": {
      "image/png": "[encoded data removed]",
      "text/plain": [
       "<Figure size 720x360 with 1 Axes>"
      ]
     },
     "metadata": {
      "needs_background": "light"
     },
     "output_type": "display_data"
    }
   ],
   "source": [
    "ds = df[df['Medal'] == 'Gold']\n",
    "dt = ds[ds['Gender']== 'Women']\n",
    "data = []\n",
    "for Sport in dt['Sport'].unique():\n",
    "    data.append([Sport, len(dt[dt['Sport'] == Sport])])\n",
    "\n",
    "data = pd.DataFrame(data, columns = ['Sport', 'Medal'])\n",
    "data = data.sort_values(by= ['Medal'], ascending = False).head()\n",
    "data.plot(x = 'Sport', y= 'Medal', kind = 'bar', figsize =(10, 5))"
   ]
  },
  {
   "cell_type": "code",
   "execution_count": 129,
   "id": "4a6c3726",
   "metadata": {},
   "outputs": [
    {
     "data": {
      "text/html": [
       "<div>\n",
       "<style scoped>\n",
       "    .dataframe tbody tr th:only-of-type {\n",
       "        vertical-align: middle;\n",
       "    }\n",
       "\n",
       "    .dataframe tbody tr th {\n",
       "        vertical-align: top;\n",
       "    }\n",
       "\n",
       "    .dataframe thead th {\n",
       "        text-align: right;\n",
       "    }\n",
       "</style>\n",
       "<table border=\"1\" class=\"dataframe\">\n",
       "  <thead>\n",
       "    <tr style=\"text-align: right;\">\n",
       "      <th></th>\n",
       "      <th>Sport</th>\n",
       "      <th>Medal</th>\n",
       "    </tr>\n",
       "  </thead>\n",
       "  <tbody>\n",
       "    <tr>\n",
       "      <th>4</th>\n",
       "      <td>Aquatics</td>\n",
       "      <td>589</td>\n",
       "    </tr>\n",
       "    <tr>\n",
       "      <th>7</th>\n",
       "      <td>Athletics</td>\n",
       "      <td>389</td>\n",
       "    </tr>\n",
       "    <tr>\n",
       "      <th>8</th>\n",
       "      <td>Gymnastics</td>\n",
       "      <td>268</td>\n",
       "    </tr>\n",
       "    <tr>\n",
       "      <th>14</th>\n",
       "      <td>Rowing</td>\n",
       "      <td>217</td>\n",
       "    </tr>\n",
       "    <tr>\n",
       "      <th>11</th>\n",
       "      <td>Volleyball</td>\n",
       "      <td>166</td>\n",
       "    </tr>\n",
       "  </tbody>\n",
       "</table>\n",
       "</div>"
      ],
      "text/plain": [
       "         Sport  Medal\n",
       "4     Aquatics    589\n",
       "7    Athletics    389\n",
       "8   Gymnastics    268\n",
       "14      Rowing    217\n",
       "11  Volleyball    166"
      ]
     },
     "execution_count": 129,
     "metadata": {},
     "output_type": "execute_result"
    }
   ],
   "source": [
    "data"
   ]
  },
  {
   "cell_type": "code",
   "execution_count": null,
   "id": "31ca2c64",
   "metadata": {},
   "outputs": [],
   "source": []
  }
 ],
 "metadata": {
  "kernelspec": {
   "display_name": "Python 3 (ipykernel)",
   "language": "python",
   "name": "python3"
  },
  "language_info": {
   "codemirror_mode": {
    "name": "ipython",
    "version": 3
   },
   "file_extension": ".py",
   "mimetype": "text/x-python",
   "name": "python",
   "nbconvert_exporter": "python",
   "pygments_lexer": "ipython3",
   "version": "3.9.6"
  }
 },
 "nbformat": 4,
 "nbformat_minor": 5
}
